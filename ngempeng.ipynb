{
  "cells": [
    {
      "cell_type": "code",
      "source": [
        "! nvidia-smi -L"
      ],
      "metadata": {
        "colab": {
          "base_uri": "https://localhost:8080/"
        },
        "id": "vJ-xnOzhIDMl",
        "outputId": "2d27310b-7847-49d0-bd78-c76931a94893"
      },
      "execution_count": null,
      "outputs": [
        {
          "output_type": "stream",
          "name": "stdout",
          "text": [
            "GPU 0: Tesla T4 (UUID: GPU-9f445bbd-76a5-9faa-5c58-37052dc2896f)\n"
          ]
        }
      ]
    },
    {
      "cell_type": "code",
      "source": [
        "# Install colab_ssh\n",
        "!pip install colab_ssh --upgrade\n",
        "\n",
        "from colab_ssh import launch_ssh\n",
        "launch_ssh('28xySP6UimwwTKLVQ8CPUE9uO2K_Xw8w2KCCuBStp92gCBXd92', '929239')\n",
        "#@title **Colab Shutdown**\n",
        "\n",
        "#@markdown To Kill NGROK Tunnel\n",
        "NGROK = False #@param {type:'boolean'}"
      ],
      "metadata": {
        "id": "ehbGpReCGM40",
        "outputId": "01bafeb3-9007-4129-9a6f-a5da6a83ad52",
        "colab": {
          "base_uri": "https://localhost:8080/"
        }
      },
      "execution_count": null,
      "outputs": [
        {
          "output_type": "stream",
          "name": "stdout",
          "text": [
            "Looking in indexes: https://pypi.org/simple, https://us-python.pkg.dev/colab-wheels/public/simple/\n",
            "Requirement already satisfied: colab_ssh in /usr/local/lib/python3.7/dist-packages (0.3.27)\n",
            "Warning: Due to some issues with ngrok on Google Colab, reported in the issue https://github.com/WassimBenzarti/colab-ssh/issues/45, \n",
            "we highly recommend that update your code by following this documentation https://github.com/WassimBenzarti/colab-ssh#getting-started\n",
            "Successfully running 6.tcp.ngrok.io:17599\n",
            "[Optional] You can also connect with VSCode SSH Remote extension using this configuration:\n",
            "\n",
            "  Host google_colab_ssh\n",
            "    HostName 6.tcp.ngrok.io\n",
            "    User root\n",
            "    Port 17599\n",
            "    \n"
          ]
        }
      ]
    },
    {
      "cell_type": "code",
      "source": [
        "!sudo apt-get update && sudo apt-get upgrade"
      ],
      "metadata": {
        "id": "zpA--8s7w9i4"
      },
      "execution_count": null,
      "outputs": []
    },
    {
      "cell_type": "code",
      "source": [
        "if Sleep:\n",
        "    from time import sleep\n",
        "    sleep(43200)"
      ],
      "metadata": {
        "id": "bF2yAAnKLjeV"
      },
      "execution_count": null,
      "outputs": []
    }
  ],
  "metadata": {
    "colab": {
      "collapsed_sections": [],
      "name": "ngempeng.ipynb",
      "provenance": []
    },
    "kernelspec": {
      "display_name": "Python 3",
      "name": "python3"
    },
    "accelerator": "GPU"
  },
  "nbformat": 4,
  "nbformat_minor": 0
}